{
 "cells": [
  {
   "cell_type": "code",
   "execution_count": 1,
   "id": "ef7c3745",
   "metadata": {},
   "outputs": [],
   "source": [
    "import warnings\n",
    "warnings.filterwarnings(\"ignore\")\n",
    "\n",
    "from data_loader import load_data_from_disk, process_to_df, cut_light_change\n",
    "from draw import plot_per_light_cuts, plot_pupil_ci, plot_pupil_ci_subplots, rgb_color_names\n",
    "\n",
    "import os\n",
    "import matplotlib.pyplot as plt"
   ]
  },
  {
   "cell_type": "code",
   "execution_count": 2,
   "id": "34ee00bd",
   "metadata": {},
   "outputs": [],
   "source": [
    "# TEST_GROUP={\n",
    "#     \"type\" : \"单色1\",\n",
    "#     \"time\" : 1,\n",
    "#     \"start\" : 1,\n",
    "#     \"duration\" : 3,\n",
    "#     \"step\" : 2\n",
    "# }\n",
    "# TEST_GROUP={\n",
    "#     \"type\" : \"单色3\",\n",
    "#     \"time\" : 3,\n",
    "#     \"start\" : 3,\n",
    "#     \"duration\" : 9,\n",
    "#     \"step\" : 6\n",
    "# }\n",
    "TEST_GROUP={\n",
    "    \"type\" : \"单色5\",\n",
    "    \"time\" : 5,\n",
    "    \"start\" : 5,\n",
    "    \"duration\" : 15,\n",
    "    \"step\" : 10\n",
    "}\n",
    "# TEST_GROUP={\n",
    "#     \"type\" : \"单色p5\",\n",
    "#     \"time\" : 0.5,\n",
    "#     \"start\" : 0.5,\n",
    "#     \"duration\" : 1.5,\n",
    "#     \"step\" : 1\n",
    "# }"
   ]
  },
  {
   "cell_type": "code",
   "execution_count": 3,
   "id": "616a747b",
   "metadata": {},
   "outputs": [],
   "source": [
    "if not os.path.exists(f\"exp-1-pic\\\\{TEST_GROUP['type']}\"):\n",
    "    os.mkdir(f\"exp-1-pic\\\\{TEST_GROUP['type']}\")\n",
    "\n",
    "light_data = load_data_from_disk(\n",
    "    \"E:\\LightYourEyesData\\实验一\",\n",
    "    data_type=\"light_changes\",\n",
    "    test_type=TEST_GROUP['type'],\n",
    "    test_times=1\n",
    ")\n",
    "\n",
    "light_df = process_to_df(\n",
    "    light_data,\n",
    "    smooth_win=int(0.5*TEST_GROUP['time']*50)\n",
    ")"
   ]
  },
  {
   "cell_type": "code",
   "execution_count": 4,
   "id": "8216b0cf",
   "metadata": {},
   "outputs": [],
   "source": [
    "cutted_data = cut_light_change(\n",
    "    light_df,\n",
    "    start_time=TEST_GROUP['start'],\n",
    "    duration=TEST_GROUP['duration'],\n",
    "    step=TEST_GROUP['step']\n",
    ")"
   ]
  },
  {
   "cell_type": "code",
   "execution_count": 5,
   "id": "7948fe57",
   "metadata": {},
   "outputs": [],
   "source": [
    "from draw import plot_per_subject\n",
    "\n",
    "fig = plot_per_subject(light_df, time_interval=TEST_GROUP['time'], sampling_rate=50, figsize=(12, 50)) \n",
    "fig.savefig(os.path.join(f\"exp-1-pic\\\\{TEST_GROUP['type']}\", f\"allpupil.png\"),\n",
    "            dpi=200\n",
    "            )\n",
    "plt.close()"
   ]
  },
  {
   "cell_type": "code",
   "execution_count": 5,
   "id": "a76d60e8",
   "metadata": {},
   "outputs": [],
   "source": [
    "# for i,cut in enumerate(cutted_data):\n",
    "#     fig = plot_per_light_cuts(\n",
    "#         cut[\"data\"],\n",
    "#         title=f\"{cut['start_energy']} ({cut['start_rgb']}) -> { cut['end_energy'] } ({cut['end_rgb']})\",\n",
    "#         time_interval=TEST_GROUP['time'],\n",
    "#     )\n",
    "#     fig.savefig(\n",
    "#         os.path.join(f\"exp-1-pic\\\\{TEST_GROUP['type']}\", f\"{i}.png\"),\n",
    "#         dpi=200\n",
    "#     )\n",
    "#     plt.close()"
   ]
  },
  {
   "cell_type": "code",
   "execution_count": 6,
   "id": "a8a2d2c8",
   "metadata": {},
   "outputs": [],
   "source": [
    "samestart_cluster = {}\n",
    "\n",
    "for cut in cutted_data:\n",
    "    s_rgb = \"-\".join(str(n) for n in cut[\"start_rgb\"])\n",
    "    e_rgb = \"-\".join(str(n) for n in cut[\"end_rgb\"])\n",
    "    if s_rgb in samestart_cluster:\n",
    "        if e_rgb in samestart_cluster[s_rgb]:\n",
    "            samestart_cluster[s_rgb][e_rgb].append(cut[\"data\"])\n",
    "        else:\n",
    "            samestart_cluster[s_rgb][e_rgb] = [cut[\"data\"]]\n",
    "    else:\n",
    "        samestart_cluster[s_rgb] = {}\n",
    "        samestart_cluster[s_rgb][e_rgb] = [cut[\"data\"]]"
   ]
  },
  {
   "cell_type": "code",
   "execution_count": 7,
   "id": "f5b8bc38",
   "metadata": {},
   "outputs": [],
   "source": [
    "import numpy as np\n",
    "\n",
    "trans_subtraction = {}\n",
    "for start in samestart_cluster.keys():\n",
    "    if start not in rgb_color_names.keys(): continue\n",
    "    trans_subtraction[rgb_color_names[start]] = {}\n",
    "    for end in samestart_cluster[start].keys():\n",
    "        subs = []\n",
    "        for _d in samestart_cluster[start][end]:\n",
    "            trans_s = int(TEST_GROUP[\"time\"]*50)\n",
    "            trans_e = int(TEST_GROUP[\"time\"]*2*50)\n",
    "\n",
    "            subs.append(np.mean(_d[\"leftPD\"][trans_e-3 :trans_e+4]) - np.mean(_d[\"leftPD\"][trans_s-3 : trans_s+4]))\n",
    "            subs.append(np.mean(_d[\"rightPD\"][trans_e-3 :trans_e+4]) - np.mean(_d[\"rightPD\"][trans_s-3 : trans_s+4]))\n",
    "        # trans_subtraction[rgb_color_names[start]][rgb_color_names[end]] = np.mean(subs)\n",
    "        trans_subtraction[rgb_color_names[start]][rgb_color_names[end]] = subs\n",
    "\n",
    "    fig = plot_pupil_ci(\n",
    "            samestart_cluster[start],\n",
    "            title = f\"Transition Start with Color {rgb_color_names[start]}\",\n",
    "            time_interval=TEST_GROUP['time'],\n",
    "            change_start=TEST_GROUP['time']\n",
    "        )\n",
    "    fig.savefig(\n",
    "        os.path.join(f\"exp-1-pic\\\\{TEST_GROUP['type']}\", f\"{rgb_color_names[start]}.png\"),\n",
    "        dpi=200\n",
    "    )\n",
    "    plt.close()\n",
    "\n",
    "    fig = plot_pupil_ci_subplots(\n",
    "            samestart_cluster[start],\n",
    "            start_color=start,\n",
    "            title = f\"Transition Start with Color {rgb_color_names[start]}\",\n",
    "            time_interval=TEST_GROUP['time'],\n",
    "            change_start=TEST_GROUP['time']\n",
    "        )\n",
    "    fig.savefig(\n",
    "        os.path.join(f\"exp-1-pic\\\\{TEST_GROUP['type']}\", f\"{rgb_color_names[start]}-subplots.png\"),\n",
    "        dpi=200\n",
    "    )\n",
    "    plt.close()"
   ]
  },
  {
   "cell_type": "code",
   "execution_count": 8,
   "id": "f8438be1",
   "metadata": {},
   "outputs": [],
   "source": [
    "import pandas as pd\n",
    "from draw import rgb_color_names\n",
    "trans_diff = pd.DataFrame(trans_subtraction)\n",
    "# trans_diff.index = [rgb_color_names[i] for i in trans_diff.index]\n",
    "# trans_diff.columns = [rgb_color_names[i] for i in trans_diff.columns]\n",
    "trans_diff.to_csv(os.path.join(f\"exp-1-pic\\\\{TEST_GROUP['type']}-transdiff.csv\"))"
   ]
  },
  {
   "cell_type": "code",
   "execution_count": 9,
   "id": "c430043e",
   "metadata": {},
   "outputs": [],
   "source": [
    "from draw import rgb_color_names\n",
    "from Light import rgb_to_energy_spectral, str_to_rgb\n",
    "rgb_energydiff = {}\n",
    "\n",
    "for s_rgb in rgb_color_names:\n",
    "    rgb_energydiff[rgb_color_names[s_rgb]] = {}\n",
    "    for e_rgb in rgb_color_names:\n",
    "        _sub = rgb_to_energy_spectral(str_to_rgb(e_rgb)) - rgb_to_energy_spectral(str_to_rgb(s_rgb))\n",
    "        rgb_energydiff[rgb_color_names[s_rgb]][rgb_color_names[e_rgb]] = _sub"
   ]
  },
  {
   "cell_type": "code",
   "execution_count": 10,
   "id": "a1e56917",
   "metadata": {},
   "outputs": [],
   "source": [
    "ener = []\n",
    "amp = []\n",
    "for s_rgb in rgb_color_names.values():\n",
    "    for e_rgb in rgb_color_names.values():\n",
    "        if e_rgb in trans_subtraction[s_rgb]:\n",
    "            temp_ener = [rgb_energydiff[s_rgb][e_rgb] for _ in range(len(trans_subtraction[s_rgb][e_rgb]))]\n",
    "            # ener.append(rgb_energydiff[s_rgb][e_rgb])\n",
    "            # amp.append(trans_subtraction[s_rgb][e_rgb])\n",
    "            ener.extend(temp_ener)\n",
    "            amp.extend(trans_subtraction[s_rgb][e_rgb])\n",
    "# print(len(amp))\n",
    "# print(len(ener))\n",
    "df = pd.DataFrame({\"X\":np.array(ener).reshape(-1), \"Y\":np.array(amp).reshape(-1)})"
   ]
  },
  {
   "cell_type": "code",
   "execution_count": 11,
   "id": "999b7e1f",
   "metadata": {},
   "outputs": [
    {
     "data": {
      "text/plain": [
       "<Figure size 1000x600 with 0 Axes>"
      ]
     },
     "metadata": {},
     "output_type": "display_data"
    },
    {
     "data": {
      "image/png": "[encoded data removed]",
      "text/plain": [
       "<Figure size 1000x600 with 1 Axes>"
      ]
     },
     "metadata": {},
     "output_type": "display_data"
    }
   ],
   "source": [
    "import seaborn as sns\n",
    "plt.figure(figsize=(10, 6))\n",
    "\n",
    "sns.set_style(\"whitegrid\")\n",
    "\n",
    "# Create the plot\n",
    "plt.figure(figsize=(10, 6))\n",
    "\n",
    "# Use a single `regplot` call to plot both points and the regression line\n",
    "# Customize the appearance of the scatter points with `scatter_kws`\n",
    "# and the regression line with `line_kws`\n",
    "sns.regplot(x='X', y='Y', data=df,\n",
    "            scatter_kws={'color': 'gray', 'alpha': 0.8, 's': 30},\n",
    "            line_kws={'color': 'red', 'linestyle': '--', 'linewidth': 2})\n",
    "\n",
    "# Add titles and labels for clarity\n",
    "# plt.title('Linear Estimation Plot', fontsize=16, fontweight='bold')\n",
    "plt.xlabel('Energy Difference', fontsize=14, fontweight='bold')\n",
    "plt.ylabel('Change Amplitude of PD', fontsize=14, fontweight='bold')\n",
    "plt.tick_params(axis='x', labelsize=14)  # X轴刻度字体大小\n",
    "plt.tick_params(axis='y', labelsize=14)  # Y轴刻度字体大小\n",
    "plt.tight_layout()\n",
    "\n",
    "plt.savefig(os.path.join(f\"exp-1-pic\\\\{TEST_GROUP['type']}-energydiff.png\"))"
   ]
  },
  {
   "cell_type": "code",
   "execution_count": 12,
   "id": "2454b7aa",
   "metadata": {},
   "outputs": [
    {
     "name": "stdout",
     "output_type": "stream",
     "text": [
      "                            OLS Regression Results                            \n",
      "==============================================================================\n",
      "Dep. Variable:                      y   R-squared:                       0.009\n",
      "Model:                            OLS   Adj. R-squared:                  0.008\n",
      "Method:                 Least Squares   F-statistic:                     5.481\n",
      "Date:                Wed, 03 Sep 2025   Prob (F-statistic):             0.0196\n",
      "Time:                        21:39:24   Log-Likelihood:                -1629.7\n",
      "No. Observations:                 578   AIC:                             3263.\n",
      "Df Residuals:                     576   BIC:                             3272.\n",
      "Df Model:                           1                                         \n",
      "Covariance Type:            nonrobust                                         \n",
      "==============================================================================\n",
      "                 coef    std err          t      P>|t|      [0.025      0.975]\n",
      "------------------------------------------------------------------------------\n",
      "const          1.5399      0.169      9.107      0.000       1.208       1.872\n",
      "x1             0.0043      0.002      2.341      0.020       0.001       0.008\n",
      "==============================================================================\n",
      "Omnibus:                       17.497   Durbin-Watson:                   1.100\n",
      "Prob(Omnibus):                  0.000   Jarque-Bera (JB):               19.461\n",
      "Skew:                          -0.366   Prob(JB):                     5.94e-05\n",
      "Kurtosis:                       3.522   Cond. No.                         92.2\n",
      "==============================================================================\n",
      "\n",
      "Notes:\n",
      "[1] Standard Errors assume that the covariance matrix of the errors is correctly specified.\n"
     ]
    }
   ],
   "source": [
    "from sklearn.linear_model import LinearRegression\n",
    "from sklearn.metrics import r2_score\n",
    "\n",
    "\n",
    "X = df[\"X\"].values.reshape(-1, 1)\n",
    "Y = df[\"Y\"].values.reshape(-1, 1)\n",
    "\n",
    "import statsmodels.api as sm\n",
    "\n",
    "# Add a constant (the intercept) to the independent variable\n",
    "X_sm = sm.add_constant(X)\n",
    "\n",
    "# Create an OLS (Ordinary Least Squares) model\n",
    "model_sm = sm.OLS(Y, X_sm)\n",
    "results = model_sm.fit()\n",
    "\n",
    "# Print the full summary to get the p-value\n",
    "print(results.summary())\n",
    "\n",
    "with open(os.path.join(f\"exp-1-pic\\\\log.txt\"), \"a\") as f:\n",
    "    f.write(f\"=============={TEST_GROUP['type']}==============\\n\")\n",
    "    f.write(results.summary().as_text())\n",
    "    f.write(f\"==========================================\\n\")"
   ]
  },
  {
   "cell_type": "code",
   "execution_count": 13,
   "id": "ed6f1b9d",
   "metadata": {},
   "outputs": [],
   "source": [
    "from Light import rgb_to_energy_spectral, str_to_rgb\n",
    "\n",
    "energydiff_cluster = {\n",
    "    \"< -100\":[],\n",
    "    \"-100 ~ -50\":[],\n",
    "    \"-50 ~ -25\":[],\n",
    "    \"-25 ~ 25\":[],\n",
    "    \"25 ~ 50\":[],\n",
    "    \"50 ~ 100\":[],\n",
    "    \"> 100\":[]\n",
    "}\n",
    "\n",
    "for cut in cutted_data:\n",
    "    s_rgb = \"-\".join(str(n) for n in cut[\"start_rgb\"])\n",
    "    e_rgb = \"-\".join(str(n) for n in cut[\"end_rgb\"])\n",
    "        \n",
    "    _sub = rgb_to_energy_spectral(str_to_rgb(e_rgb)) - rgb_to_energy_spectral(str_to_rgb(s_rgb))\n",
    "    if _sub<-100:\n",
    "        energydiff_cluster[\"< -100\"].append(cut[\"data\"])\n",
    "    elif -100 <= _sub < -50:\n",
    "        energydiff_cluster[\"-100 ~ -50\"].append(cut[\"data\"])\n",
    "    elif -50 <= _sub < -25:\n",
    "        energydiff_cluster[\"-50 ~ -25\"].append(cut[\"data\"])\n",
    "    elif -25 <= _sub < 25:\n",
    "        energydiff_cluster[\"-25 ~ 25\"].append(cut[\"data\"])\n",
    "    elif 25 <= _sub < 50:\n",
    "        energydiff_cluster[\"25 ~ 50\"].append(cut[\"data\"])\n",
    "    elif 50 <= _sub < 100:\n",
    "        energydiff_cluster[\"50 ~ 100\"].append(cut[\"data\"])\n",
    "    elif 100 <= _sub:\n",
    "        energydiff_cluster[\"> 100\"].append(cut[\"data\"])"
   ]
  },
  {
   "cell_type": "code",
   "execution_count": 14,
   "id": "88a1d784",
   "metadata": {},
   "outputs": [],
   "source": [
    "from draw import plot_pupil_energydiff\n",
    "fig = plot_pupil_energydiff(\n",
    "            energydiff_cluster,\n",
    "            title = f\"PD Values Grouped by Energy Transition Differences\",\n",
    "            time_interval=TEST_GROUP['time'],\n",
    "            change_start=TEST_GROUP['time']\n",
    "    )\n",
    "fig.savefig(\n",
    "        os.path.join(f\"exp-1-pic\\\\{TEST_GROUP['type']}\", f\"energydiff.png\"),\n",
    "        dpi=200\n",
    "    )\n",
    "plt.close()\n",
    "\n",
    "fig = plot_pupil_energydiff(\n",
    "            energydiff_cluster,\n",
    "            title = f\"PD Values Grouped by Transition Energy Differences\",\n",
    "            time_interval=TEST_GROUP['time'],\n",
    "            change_start=0\n",
    "    )\n",
    "fig.savefig(\n",
    "        os.path.join(f\"exp-1-pic\\\\{TEST_GROUP['type']}\", f\"energydiff-zerostart.png\"),\n",
    "        dpi=200\n",
    "    )\n",
    "plt.close()"
   ]
  },
  {
   "cell_type": "code",
   "execution_count": 15,
   "id": "dc89b05d",
   "metadata": {},
   "outputs": [],
   "source": [
    "from draw import plot_per_subject\n",
    "\n",
    "fig = plot_per_subject(light_df, time_interval=TEST_GROUP['time'], sampling_rate=50) \n",
    "fig.savefig(os.path.join(f\"exp-1-pic\\\\{TEST_GROUP['type']}\", f\"allpupil.png\"),\n",
    "            dpi=200\n",
    "            )\n",
    "plt.close()"
   ]
  },
  {
   "cell_type": "code",
   "execution_count": 16,
   "id": "c5bf2055",
   "metadata": {},
   "outputs": [],
   "source": [
    "from Light import rgb_to_str\n",
    "\n",
    "def cut_by_stage(data):\n",
    "    df = data.copy()\n",
    "    df[\"skyboxColorRGB\"] = df[\"skyboxColorRGB\"].apply(rgb_to_str)\n",
    "    \n",
    "    # Initialize the dictionary to hold the results\n",
    "    phases = {\"stay\": [], \"transition\": []}\n",
    "    \n",
    "    # Convert skyboxcolor to a categorical type for efficient comparison\n",
    "    color_series = df['skyboxColorRGB']\n",
    "    \n",
    "    # Find the indices where the color changes\n",
    "    transition_indices = color_series[color_series.shift(2) != color_series].index\n",
    "    \n",
    "    s_idx = transition_indices[0]\n",
    "    e_idx = transition_indices[1]\n",
    "    _idx = 1\n",
    "    while _idx<len(transition_indices):\n",
    "        if transition_indices[_idx] - transition_indices[_idx-1]==1:\n",
    "            e_idx = transition_indices[_idx]\n",
    "        else:\n",
    "            phases[\"transition\"].append(df.iloc[s_idx:e_idx+1].copy())\n",
    "            phases[\"stay\"].append(df.iloc[e_idx+1:transition_indices[_idx]].copy())\n",
    "            s_idx = transition_indices[_idx]\n",
    "            e_idx = transition_indices[_idx]\n",
    "        _idx += 1\n",
    "    phases[\"transition\"].append(df.iloc[s_idx:transition_indices[-1]+1].copy())\n",
    "    phases[\"stay\"].append(df.iloc[transition_indices[-1]+1:].copy())\n",
    "            \n",
    "    return phases"
   ]
  },
  {
   "cell_type": "code",
   "execution_count": 17,
   "id": "e95eda82",
   "metadata": {},
   "outputs": [],
   "source": [
    "from metrics import calculate_cv\n",
    "import numpy as np\n",
    "\n",
    "stat_res = {}\n",
    "for _p in light_df:\n",
    "    temp_stat = {}\n",
    "    _temp = light_df[_p].loc[:, [\"leftPD\", \"rightPD\"]].mean(axis=1).values\n",
    "    temp_stat[\"Overall-CV\"] = calculate_cv(_temp)\n",
    "    \n",
    "    _temp_cut = cut_by_stage(light_df[_p])\n",
    "    _trans_cv = []\n",
    "    for _d in _temp_cut[\"transition\"]:\n",
    "        _trans_cv.append(calculate_cv(_d.loc[:, [\"leftPD\", \"rightPD\"]].mean(axis=1).values))\n",
    "    _stay_cv = []\n",
    "    for _d in _temp_cut[\"stay\"]:\n",
    "        _stay_cv.append(calculate_cv(_d.loc[:, [\"leftPD\", \"rightPD\"]].mean(axis=1).values))\n",
    "    \n",
    "    temp_stat[\"Overall-CV\"] = calculate_cv(_temp)\n",
    "    temp_stat[\"Trans-CV\"] = np.mean(_trans_cv)\n",
    "    temp_stat[\"Stay-CV\"] = np.mean(_stay_cv)\n",
    "    temp_stat[\"Trans-CVs\"] = _trans_cv\n",
    "    temp_stat[\"Stay-CVs\"] = _stay_cv\n",
    "    stat_res[_p] = temp_stat"
   ]
  },
  {
   "cell_type": "code",
   "execution_count": 18,
   "id": "14b7a33e",
   "metadata": {},
   "outputs": [],
   "source": [
    "import pandas as pd\n",
    "import json\n",
    "\n",
    "with open(f\"exp-1-pic\\\\{TEST_GROUP['type']}-cv-stat.json\", \"w\") as f:\n",
    "    json.dump(stat_res, f)\n",
    "pd.DataFrame(stat_res).T.iloc[:, :3].astype(np.float32).describe().to_csv(f\"exp-1-pic\\\\{TEST_GROUP['type']}-cv-stat.csv\")"
   ]
  },
  {
   "cell_type": "code",
   "execution_count": 19,
   "id": "736aff0f",
   "metadata": {},
   "outputs": [],
   "source": [
    "from scipy.stats import f_oneway\n",
    "\n",
    "def AnovaTest(_input, _col, label_col):\n",
    "    groups = []\n",
    "    for i in _input[label_col].unique():\n",
    "        groups.append(_input[_input.loc[:, label_col] == i].loc[:, _col])\n",
    "    u_statistic, p_value = f_oneway(*groups)\n",
    "    return p_value\n",
    "\n",
    "temp_d = {}\n",
    "for type in [\"单色p5\", \"单色1\", \"单色3\", \"单色5\"]:\n",
    "    with open(f\"exp-1-pic\\\\{type}-cv-stat.json\", \"r\", encoding='utf-8-sig') as f:\n",
    "        sd = json.load(f)\n",
    "\n",
    "    temp_d[type] = []\n",
    "    for _, _v in sd.items():\n",
    "         temp_d[type].append(_v[\"Overall-CV\"])"
   ]
  },
  {
   "cell_type": "code",
   "execution_count": 20,
   "id": "630b568b",
   "metadata": {},
   "outputs": [
    {
     "data": {
      "text/plain": [
       "F_onewayResult(statistic=1.3121534161166686, pvalue=0.2781636519492272)"
      ]
     },
     "execution_count": 20,
     "metadata": {},
     "output_type": "execute_result"
    }
   ],
   "source": [
    "f_oneway(*temp_d.values())"
   ]
  },
  {
   "cell_type": "code",
   "execution_count": null,
   "id": "018e82d8",
   "metadata": {},
   "outputs": [],
   "source": []
  }
 ],
 "metadata": {
  "kernelspec": {
   "display_name": "base",
   "language": "python",
   "name": "python3"
  },
  "language_info": {
   "codemirror_mode": {
    "name": "ipython",
    "version": 3
   },
   "file_extension": ".py",
   "mimetype": "text/x-python",
   "name": "python",
   "nbconvert_exporter": "python",
   "pygments_lexer": "ipython3",
   "version": "3.10.9"
  }
 },
 "nbformat": 4,
 "nbformat_minor": 5
}
